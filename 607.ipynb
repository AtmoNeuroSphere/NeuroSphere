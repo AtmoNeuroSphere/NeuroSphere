{
  "nbformat": 4,
  "nbformat_minor": 0,
  "metadata": {
    "colab": {
      "provenance": []
    },
    "kernelspec": {
      "name": "python3",
      "display_name": "Python 3"
    },
    "language_info": {
      "name": "python"
    }
  },
  "cells": [
    {
      "cell_type": "code",
      "execution_count": null,
      "metadata": {
        "id": "8J8Rrz9L0H5E"
      },
      "outputs": [],
      "source": [
        "import numpy as np\n",
        "import pandas as pd\n",
        "\n",
        "import os\n",
        "for dirname, _, filenames in os.walk('/kaggle/input'):\n",
        "    for filename in filenames:\n",
        "        print(os.path.join(dirname, filename))\n",
        "\n",
        "import pandas as pd\n",
        "import matplotlib.pyplot as plt\n",
        "import seaborn as sns\n",
        "\n",
        "df = pd.read_csv(\"insert fraud decection data here\")\n",
        "df.head()"
      ]
    },
    {
      "cell_type": "code",
      "source": [
        "df.info()"
      ],
      "metadata": {
        "id": "aZ_aIpB92Wl9"
      },
      "execution_count": null,
      "outputs": []
    },
    {
      "cell_type": "code",
      "source": [
        "df.columns"
      ],
      "metadata": {
        "id": "WszmC6_j2YiK"
      },
      "execution_count": null,
      "outputs": []
    },
    {
      "cell_type": "code",
      "source": [
        "df.describe()"
      ],
      "metadata": {
        "id": "Gjnp6uQt2crr"
      },
      "execution_count": null,
      "outputs": []
    },
    {
      "cell_type": "code",
      "source": [
        "df.shape"
      ],
      "metadata": {
        "id": "hA_Nzq_92fJO"
      },
      "execution_count": null,
      "outputs": []
    },
    {
      "cell_type": "code",
      "source": [
        "fraud_counts = df['isFraud'].value_counts()\n",
        "fraud_counts.plot(kind='bar', title=Fraud vs Non-Fraud Transactions')\n",
        "plt.xlabel('isFraud')\n",
        "plt.ylabel('Count')\n",
        "plt.show()\n",
        "fraud_percentage = (fraud_counts[1] / fraud_counts.sum()) * 100\n",
        "print(f\"Percentage of fraud cases: {fraud_percentage:.2f}%\")"
      ],
      "metadata": {
        "id": "Uuajm1uZ2ksB"
      },
      "execution_count": null,
      "outputs": []
    },
    {
      "cell_type": "code",
      "source": [
        "import seaborn as sns\n",
        "import matplotlib.pyplot as plt\n",
        "\n",
        "plt.figure(figsize=(10, 6))\n",
        "sns.countplot(data=df, x='type', hue='isFraud', palette='viridis')\n",
        "plt.title('Transaction Type Distribution buy Fraud and Non-Fraud')\n",
        "plt.xlabel('Transaction Type')\n",
        "plt.ylabel('Count')\n",
        "plt.legend(title='Fraud', labels=['Non-Fraud', 'Fraud'])\n",
        "plt.show()\n",
        "\n",
        "fraud_by_type = df.groupby('type')['isFraud'].mean() * 100\n",
        "print(\"Percentage of Fraud by Transaction Type:\\n\", fraud_by_type)\n",
        "\n",
        "plt.figure(figsize=(10, 6))\n",
        "\n",
        "sns.boxplot(data=df, x='isFraud', y='amount', palette=['blue', 'red'])\n",
        "\n",
        "plt.title('Transaction Amount Distribution by Fraud and Non-Fraud')\n",
        "plt.xlabel('Fraud (0 Non-Fraud, 1 = Fraud)')\n",
        "plt.ylabel('Transactoin Amount')\n",
        "\n",
        "plt.show()"
      ],
      "metadata": {
        "id": "kd7qhojY2kMl"
      },
      "execution_count": null,
      "outputs": []
    },
    {
      "cell_type": "code",
      "source": [
        "percentiles = [10, 25, 50, 75, 90, 95, 99, 100]\n",
        "\n",
        "percentile_values = df['amount'].quantile([p / 100 for p in percentiles]).reset_index()\n",
        "percentile_values.columns = ['Percentile', 'Amount_Limit']\n",
        "\n",
        "percentile_values = pd.concat([pd.DataFrame({'Percentile': [0], 'Amount_Limit': [df['amount'].min()]}), percentile_values])\n",
        "\n",
        "for i in range(len(percentile_values) - 1):\n",
        "  lower_bound = percentile_values['Amount_Limit'].iloc[i]\n",
        "  upper_bound = percentile_values['Amount_Limit'].ioc[i + 1]\n",
        "  count = df[(df['amount'] > lower_bound) & (df['amount'] <= upper_bound)].shape[0]\n",
        "  percentile_counts.append({'Percentile_Range': f\"{percentile_values['Percentile'].iloc[i]} - {percentile_values['Percentile'].iloc[i + 1]}\",\n",
        "                            'Amount_Range' : f\"{lower_bound:.2f} - {upper_bound:2f}\",\n",
        "                            'Count': count\n",
        "                            })\n",
        "\n",
        "percentile_counts_df = pd.DataFrame(percentile_counts)\n",
        "print(percentile_counts_df)"
      ],
      "metadata": {
        "id": "YytRH1sk40Eq"
      },
      "execution_count": null,
      "outputs": []
    },
    {
      "cell_type": "code",
      "source": [
        "fraud_amounts = df[df['isFraud'] == 1]['amount']\n",
        "non_fraud_amount = df[df['isFraud'] == 0]['amount']\n",
        "\n",
        "plt.hist(fraud_amount, bins=50, alpha=0.5, label='Fraud', color='red')\n",
        "plt.hist(non_fraud_amounts, bins=50, alpha=0.5, label='Non_Fraud', color='blue')\n",
        "plt.yscale('log')\n",
        "plt.legend()\n",
        "plt.title('Amount Distribution for Fraud vs Non-Fraud Transactions')\n",
        "plt.xlabel('Amount')\n",
        "plt.ylabel('Frequency')\n",
        "plt.show()"
      ],
      "metadata": {
        "id": "-F617nUs7OWP"
      },
      "execution_count": null,
      "outputs": []
    },
    {
      "cell_type": "code",
      "source": [
        "sns.histplot(df[df['isFraud'] == 1], x='step', bins=50,\n",
        "color='red', label='Fraud', kde=True)\n",
        "plt.title('Transaaction Time Distribution (Steps)')\n",
        "plt.xlabel('Time Step (Hour)')\n",
        "plt.ylabel('Frequency')\n",
        "plt.legend()\n",
        "plt.show()"
      ],
      "metadata": {
        "id": "Nu14k-IP8KKM"
      },
      "execution_count": null,
      "outputs": []
    },
    {
      "cell_type": "code",
      "source": [
        "sns.histplot(df[df['isFraud'] == 0], x='step', bins=50,\n",
        "color = 'blue', label='Non-Fraud', kde=True)\n",
        "plt.title('Transaction Time Distribution (Steps)')\n",
        "plt.xlabel('Time Step (Hour)')\n",
        "plt.ylabel('Frequency')\n",
        "plt.legend()\n",
        "plt.show()"
      ],
      "metadata": {
        "id": "crzZ6v9a8o5m"
      },
      "execution_count": null,
      "outputs": []
    },
    {
      "cell_type": "code",
      "source": [
        "top_fraud_orig = df[df['isFraud'] == 1]['nameOrig'].value_counts().head()\n",
        "print(\"Top fraud origin accounts:\\n\", top_fraud_orig)\n",
        "\n",
        "top_fraud_dest = df[df['isFraud'] == 1]['nameDest'].value_counts().head(10)\n",
        "print(\"Top fraud destination accounts:\\n\", top_fraud_dest)"
      ],
      "metadata": {
        "id": "A9U_c4gQ9ItZ"
      },
      "execution_count": null,
      "outputs": []
    },
    {
      "cell_type": "code",
      "source": [
        "df.columns"
      ],
      "metadata": {
        "id": "udXbCdW-9lMf"
      },
      "execution_count": null,
      "outputs": []
    },
    {
      "cell_type": "code",
      "source": [
        "df_colums_select = ['step', 'amount', 'oldbalanceOrg', 'newbalanceOrig', 'oldbalanceDest', 'newbalanceDest', 'isFraud', 'isFlaggedFraud']"
      ],
      "metadata": {
        "id": "mQjIWpST9nDY"
      },
      "execution_count": null,
      "outputs": []
    },
    {
      "cell_type": "code",
      "source": [
        "correlation = df[df_columns_select].corr()\n",
        "plt.figure(figsize=(10, 8))\n",
        "sns.heatmap(correlation, annot=True, cmap='coolwarm')\n",
        "plt.title('Correlation Matrix')\n",
        "plt.show()"
      ],
      "metadata": {
        "id": "7IXCr3OY93r-"
      },
      "execution_count": null,
      "outputs": []
    },
    {
      "cell_type": "code",
      "source": [
        "df['orig_txn_count'] = df.groupby('nameOrig')['nameOrig'].transform('count')\n",
        "df['dest_txn_count'] = df.groupby('nameDest')['nameDest'].transform('count')"
      ],
      "metadata": {
        "id": "M7W6yCW_-G11"
      },
      "execution_count": null,
      "outputs": []
    },
    {
      "cell_type": "code",
      "source": [
        "df.head(10)"
      ],
      "metadata": {
        "id": "XR08n0yU-aTo"
      },
      "execution_count": null,
      "outputs": []
    },
    {
      "cell_type": "code",
      "source": [
        "df['large_txn'] = [1 if data > 518634 else 0 for data in df ['amount']]\n",
        "df['large_txn'].value_counts()"
      ],
      "metadata": {
        "id": "MP9ekyfY-gQD"
      },
      "execution_count": null,
      "outputs": []
    },
    {
      "cell_type": "code",
      "source": [
        "df['diff_orig_txn'] = round(abs(df['newbalanceOrig']-df['oldbalanceOrg'])-df['amount'],2)\n",
        "df['diff_dest_txn'] = round(abs(df['newbalanceDest']-df['oldbalanceDest'])-df['amount'],2)\n",
        "df.head()"
      ],
      "metadata": {
        "id": "A9TDQANN-wJu"
      },
      "execution_count": null,
      "outputs": []
    },
    {
      "cell_type": "code",
      "source": [
        "df['orig_diff'] = [1 if abs(data) !=0.0 else 0 for data in df['diff_orig_txn']]\n",
        "df['dest_diff'] = [1 if abs(data) !=0.0 else 0 for data in df['diff_dest_txn']]"
      ],
      "metadata": {
        "id": "9AA64Df-_nu3"
      },
      "execution_count": null,
      "outputs": []
    },
    {
      "cell_type": "code",
      "source": [
        "df[df.dest_diff == 0].diff_orig_txn.sum()"
      ],
      "metadata": {
        "id": "eo1vS9Vq_47V"
      },
      "execution_count": null,
      "outputs": []
    }
  ]
}